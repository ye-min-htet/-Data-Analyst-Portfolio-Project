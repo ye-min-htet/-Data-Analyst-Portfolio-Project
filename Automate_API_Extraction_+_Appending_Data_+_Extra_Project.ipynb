{
  "nbformat": 4,
  "nbformat_minor": 0,
  "metadata": {
    "colab": {
      "provenance": []
    },
    "kernelspec": {
      "name": "python3",
      "display_name": "Python 3"
    },
    "language_info": {
      "name": "python"
    }
  },
  "cells": [
    {
      "cell_type": "code",
      "execution_count": 2,
      "metadata": {
        "id": "hTBICSdsdN8j"
      },
      "outputs": [],
      "source": [
        "from requests import Request, Session\n",
        "from requests.exceptions import ConnectionError, Timeout, TooManyRedirects\n",
        "import json\n",
        "\n",
        "url = 'https://pro-api.coinmarketcap.com/v1/cryptocurrency/listings/latest' \n",
        "#Original Sandbox Environment: 'https://sandbox-api.coinmarketcap.com/v1/cryptocurrency/listings/latest'\n",
        "parameters = {\n",
        "  'start':'1',\n",
        "  'limit':'15',\n",
        "  'convert':'USD'\n",
        "}\n",
        "headers = {\n",
        "  'Accepts': 'application/json',\n",
        "  'X-CMC_PRO_API_KEY': '0ad53085-1cb2-4eb8-ad9e-3ffbd7e56509',\n",
        "}\n",
        "\n",
        "session = Session()\n",
        "session.headers.update(headers)\n",
        "\n",
        "try:\n",
        "  response = session.get(url, params=parameters)\n",
        "  data = json.loads(response.text)\n",
        "  #print(data)\n",
        "except (ConnectionError, Timeout, TooManyRedirects) as e:\n",
        "  print(e)\n",
        "\n",
        "#NOTE:\n",
        "# I had to go in and put \"jupyter notebook --NotebookApp.iopub_data_rate_limit=1e10\"\n",
        "# Into the Anaconda Prompt to change this to allow to pull data\n",
        "\n",
        "# If that didn't work try using the local host URL as shown in the video"
      ]
    },
    {
      "cell_type": "code",
      "source": [
        "type(data)"
      ],
      "metadata": {
        "id": "URevz5fdeBQw"
      },
      "execution_count": null,
      "outputs": []
    },
    {
      "cell_type": "code",
      "source": [
        "import pandas as pd\n",
        "\n",
        "\n",
        "#This allows you to see all the columns, not just like 15\n",
        "pd.set_option('display.max_columns', None)\n",
        "pd.set_option('display.max_rows', None)"
      ],
      "metadata": {
        "id": "5MvRABpbeDgt"
      },
      "execution_count": 4,
      "outputs": []
    },
    {
      "cell_type": "code",
      "source": [
        "#This normalizes the data and makes it all pretty in a dataframe\n",
        "\n",
        "df = pd.json_normalize(data['data'])\n",
        "df['timestamp'] = pd.to_datetime('now')\n",
        "df"
      ],
      "metadata": {
        "id": "Mq89hhEGeHBC"
      },
      "execution_count": null,
      "outputs": []
    },
    {
      "cell_type": "code",
      "source": [
        "def api_runner():\n",
        "    global df\n",
        "    url = 'https://pro-api.coinmarketcap.com/v1/cryptocurrency/listings/latest' \n",
        "    #Original Sandbox Environment: 'https://sandbox-api.coinmarketcap.com/v1/cryptocurrency/listings/latest'\n",
        "    parameters = {\n",
        "      'start':'1',\n",
        "      'limit':'15',\n",
        "      'convert':'USD'\n",
        "    }\n",
        "    headers = {\n",
        "      'Accepts': 'application/json',\n",
        "      'X-CMC_PRO_API_KEY': '0ad53085-1cb2-4eb8-ad9e-3ffbd7e56509',\n",
        "    }\n",
        "\n",
        "    session = Session()\n",
        "    session.headers.update(headers)\n",
        "\n",
        "    try:\n",
        "      response = session.get(url, params=parameters)\n",
        "      data = json.loads(response.text)\n",
        "      #print(data)\n",
        "    except (ConnectionError, Timeout, TooManyRedirects) as e:\n",
        "      print(e)\n",
        "\n",
        "#NOTE:\n",
        "# I had to go in and put \"jupyter notebook --NotebookApp.iopub_data_rate_limit=1e10\"\n",
        "# Into the Anaconda Prompt to change this to allow to pull data\n",
        "    \n",
        "    # Use this if you just want to keep it in a dataframe\n",
        "    df2 = pd.json_normalize(data['data'])\n",
        "    df2['Timestamp'] = pd.to_datetime('now')\n",
        "    df = df.append(df2)\n",
        "\n",
        "\n",
        "    # Use this if you want to create a csv and append data to it\n",
        "    #df = pd.json_normalize(data['data'])\n",
        "    #df['timestamp'] = pd.to_datetime('now')\n",
        "    #df\n",
        "\n",
        "    #if not os.path.isfile(r'C:\\Users\\alexf\\OneDrive\\Documents\\Python Scripts\\API.csv'):\n",
        "        #df.to_csv(r'C:\\Users\\alexf\\OneDrive\\Documents\\Python Scripts\\API.csv', header='column_names')\n",
        "    #else:\n",
        "        #df.to_csv(r'C:\\Users\\alexf\\OneDrive\\Documents\\Python Scripts\\API.csv', mode='a', header=False)\n",
        "        \n",
        "    #Then to read in the file: df = pd.read_csv(r'C:\\Users\\alexf\\OneDrive\\Documents\\Python Scripts\\API.csv')\n",
        "\n",
        "# If that didn't work try using the local host URL as shown in the video"
      ],
      "metadata": {
        "id": "o66thibBeLa4"
      },
      "execution_count": 6,
      "outputs": []
    },
    {
      "cell_type": "code",
      "source": [
        "import os \n",
        "from time import time\n",
        "from time import sleep\n",
        "\n",
        "for i in range(333):\n",
        "    api_runner()\n",
        "    print('API Runner completed')\n",
        "    sleep(60) #sleep for 1 minute\n",
        "exit()"
      ],
      "metadata": {
        "id": "bWTzb2I2eWdQ"
      },
      "execution_count": null,
      "outputs": []
    },
    {
      "cell_type": "code",
      "source": [
        "df72 = pd.read_csv(r'C:\\Users\\alexf\\OneDrive\\Documents\\Python Scripts\\API.csv')\n",
        "df72"
      ],
      "metadata": {
        "id": "8KwSjfpqeaXS"
      },
      "execution_count": null,
      "outputs": []
    },
    {
      "cell_type": "code",
      "source": [
        "df"
      ],
      "metadata": {
        "id": "zJ9yj0I4eh-1"
      },
      "execution_count": null,
      "outputs": []
    },
    {
      "cell_type": "code",
      "source": [
        "# One thing I noticed was the scientific notation. I like it, but I want to be able to see the numbers in this case\n",
        "\n",
        "pd.set_option('display.float_format', lambda x: '%.5f' % x)"
      ],
      "metadata": {
        "id": "PHUn62KKej9E"
      },
      "execution_count": null,
      "outputs": []
    },
    {
      "cell_type": "code",
      "source": [
        "df"
      ],
      "metadata": {
        "id": "pxSnndcbemOe"
      },
      "execution_count": null,
      "outputs": []
    },
    {
      "cell_type": "code",
      "source": [
        "# Now let's look at the coin trends over time\n",
        "\n",
        "df3 = df.groupby('name', sort=False)[['quote.USD.percent_change_1h','quote.USD.percent_change_24h','quote.USD.percent_change_7d','quote.USD.percent_change_30d','quote.USD.percent_change_60d','quote.USD.percent_change_90d']].mean()\n",
        "df3"
      ],
      "metadata": {
        "id": "w3p1VIVseoI5"
      },
      "execution_count": null,
      "outputs": []
    },
    {
      "cell_type": "code",
      "source": [
        "df4 = df3.stack()\n",
        "df4"
      ],
      "metadata": {
        "id": "GS1ec6KDeq-X"
      },
      "execution_count": null,
      "outputs": []
    },
    {
      "cell_type": "code",
      "source": [
        "type(df4)"
      ],
      "metadata": {
        "id": "SC-nsch8evw6"
      },
      "execution_count": null,
      "outputs": []
    },
    {
      "cell_type": "code",
      "source": [
        "df5 = df4.to_frame(name='values')\n",
        "df5"
      ],
      "metadata": {
        "id": "35FvWzD9e6L9"
      },
      "execution_count": null,
      "outputs": []
    },
    {
      "cell_type": "code",
      "source": [
        "df5.count()"
      ],
      "metadata": {
        "id": "VXe8rYUggG0_"
      },
      "execution_count": null,
      "outputs": []
    },
    {
      "cell_type": "code",
      "source": [
        "#Because of how it's structured above we need to set an index. I don't want to pass a column as an index for this dataframe\n",
        "#So I'm going to create a range and pass that as the dataframe. You can make this more dynamic, but I'm just going to hard code it\n",
        "\n",
        "\n",
        "index = pd.Index(range(90))\n",
        "\n",
        "# Set the above DataFrame index object as the index\n",
        "# using set_index() function\n",
        "df6 = df5.set_index(index)\n",
        "df6\n",
        "\n",
        "# If it only has the index and values try doing reset_index like \"df5.reset_index()\""
      ],
      "metadata": {
        "id": "Tu-UhACZgIvq"
      },
      "execution_count": null,
      "outputs": []
    },
    {
      "cell_type": "code",
      "source": [
        "# Change the column name\n",
        "\n",
        "df7 = df6.rename(columns={'level_1': 'percent_change'})\n",
        "df7"
      ],
      "metadata": {
        "id": "729PQ2IxgLjq"
      },
      "execution_count": null,
      "outputs": []
    },
    {
      "cell_type": "code",
      "source": [
        "df7['percent_change'] = df7['percent_change'].replace(['quote.USD.percent_change_24h','quote.USD.percent_change_7d','quote.USD.percent_change_30d','quote.USD.percent_change_60d','quote.USD.percent_change_90d'],['24h','7d','30d','60d','90d'])\n",
        "df7"
      ],
      "metadata": {
        "id": "L-d9nOxQgOJA"
      },
      "execution_count": null,
      "outputs": []
    },
    {
      "cell_type": "code",
      "source": [
        "import seaborn as sns\n",
        "import matplotlib.pyplot as plt"
      ],
      "metadata": {
        "id": "RFghOo-zgQKx"
      },
      "execution_count": null,
      "outputs": []
    },
    {
      "cell_type": "code",
      "source": [
        "sns.catplot(x='percent_change', y='values', hue='name', data=df7, kind='point')"
      ],
      "metadata": {
        "id": "oBGbcBf5gSRa"
      },
      "execution_count": null,
      "outputs": []
    },
    {
      "cell_type": "code",
      "source": [
        "# Now to do something much simpler\n",
        "# we are going to create a dataframe with the columns we want\n",
        "\n",
        "df10 = df[['name','quote.USD.price','timestamp']]\n",
        "df10 = df10.query(\"name == 'Bitcoin'\")\n",
        "df10"
      ],
      "metadata": {
        "id": "gr0XI70mgUZ-"
      },
      "execution_count": null,
      "outputs": []
    },
    {
      "cell_type": "code",
      "source": [
        "sns.set_theme(style=\"darkgrid\")\n",
        "\n",
        "sns.lineplot(x='timestamp', y='quote.USD.price', data = df10)"
      ],
      "metadata": {
        "id": "8_giNQuxgWiJ"
      },
      "execution_count": null,
      "outputs": []
    },
    {
      "cell_type": "code",
      "source": [],
      "metadata": {
        "id": "X6OzPFKigYwd"
      },
      "execution_count": null,
      "outputs": []
    }
  ]
}