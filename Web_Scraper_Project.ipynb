{
  "nbformat": 4,
  "nbformat_minor": 0,
  "metadata": {
    "colab": {
      "provenance": []
    },
    "kernelspec": {
      "name": "python3",
      "display_name": "Python 3"
    },
    "language_info": {
      "name": "python"
    }
  },
  "cells": [
    {
      "cell_type": "code",
      "execution_count": 1,
      "metadata": {
        "id": "NIAWb7MMhJ78"
      },
      "outputs": [],
      "source": [
        "# import libraries \n",
        "\n",
        "from bs4 import BeautifulSoup\n",
        "import requests\n",
        "import time\n",
        "import datetime\n",
        "\n",
        "import smtplib"
      ]
    },
    {
      "cell_type": "code",
      "source": [
        "# Define the URL and headers\n",
        "URL = 'https://www.seingayhar.com/beverages-en/health-supplement-drinks-en/malt-en/ovaltine-nutritious-malt-drink-milk-400g-bot-en'\n",
        "headers = {\"User-Agent\": \"Mozilla/5.0 (Windows NT 10.0; Win64; x64) AppleWebKit/537.36 (KHTML, like Gecko) Chrome/78.0.3904.108 Safari/537.36\", \"Accept-Encoding\":\"gzip, deflate\", \"Accept\":\"text/html,application/xhtml+xml,application/xml;q=0.9,*/*;q=0.8\", \"DNT\":\"1\",\"Connection\":\"close\", \"Upgrade-Insecure-Requests\":\"1\"}\n",
        "\n",
        "# Send a GET request to the URL\n",
        "page = requests.get(URL, headers=headers)\n",
        "\n",
        "# Create a BeautifulSoup object from the HTML content\n",
        "soup = BeautifulSoup(page.content, \"html.parser\")\n",
        "\n",
        "# Extract the product title and price\n",
        "title = soup.find('h1', itemprop=\"name\").text.strip()\n",
        "price = soup.find('span', itemprop=\"price\").text.strip()\n",
        "\n",
        "# Print the results\n",
        "print(title)\n",
        "print(price)\n"
      ],
      "metadata": {
        "colab": {
          "base_uri": "https://localhost:8080/"
        },
        "id": "XszwpEphrJ7G",
        "outputId": "e7b3a6bf-1fc3-4815-bf76-5b85f8f484e6"
      },
      "execution_count": 2,
      "outputs": [
        {
          "output_type": "stream",
          "name": "stderr",
          "text": [
            "WARNING:bs4.dammit:Some characters could not be decoded, and were replaced with REPLACEMENT CHARACTER.\n"
          ]
        },
        {
          "output_type": "stream",
          "name": "stdout",
          "text": [
            "Ovaltine Nutritious Malt Drink Milk 400g (Bot)\n",
            "Ks14,300\n"
          ]
        }
      ]
    },
    {
      "cell_type": "code",
      "source": [
        "# Clean up the data a little bit\n",
        "\n",
        "price = price.strip()[2:]\n",
        "title = title.strip()\n",
        "\n",
        "print(title)\n",
        "print(price)"
      ],
      "metadata": {
        "colab": {
          "base_uri": "https://localhost:8080/"
        },
        "id": "50fDidzurTrd",
        "outputId": "1b1234fb-5105-4de0-c371-e91da818fb48"
      },
      "execution_count": 3,
      "outputs": [
        {
          "output_type": "stream",
          "name": "stdout",
          "text": [
            "Ovaltine Nutritious Malt Drink Milk 400g (Bot)\n",
            "14,300\n"
          ]
        }
      ]
    },
    {
      "cell_type": "code",
      "source": [
        "# Create a Timestamp for your output to track when data was collected\n",
        "\n",
        "import datetime\n",
        "\n",
        "today = datetime.date.today()\n",
        "\n",
        "print(today)"
      ],
      "metadata": {
        "colab": {
          "base_uri": "https://localhost:8080/"
        },
        "id": "PqHohksExYO7",
        "outputId": "7883549d-4928-4997-c652-03ed3460a60d"
      },
      "execution_count": 4,
      "outputs": [
        {
          "output_type": "stream",
          "name": "stdout",
          "text": [
            "2023-04-13\n"
          ]
        }
      ]
    },
    {
      "cell_type": "code",
      "source": [
        "# Create CSV and write headers and data into the file\n",
        "\n",
        "import csv \n",
        "\n",
        "header = ['Title', 'Price', 'Date']\n",
        "data = [title, price, today]\n",
        "\n",
        "\n",
        "with open('SGHWebScraperDataset.csv', 'w', newline='', encoding='UTF8') as f:\n",
        "    writer = csv.writer(f)\n",
        "    writer.writerow(header)\n",
        "    writer.writerow(data)"
      ],
      "metadata": {
        "id": "Ry6e69RWyVv0"
      },
      "execution_count": 5,
      "outputs": []
    },
    {
      "cell_type": "code",
      "source": [
        "\n",
        "import pandas as pd\n",
        "\n",
        "df = pd.read_csv(r'/content/SGHWebScraperDataset.csv')\n",
        "\n",
        "print(df)"
      ],
      "metadata": {
        "colab": {
          "base_uri": "https://localhost:8080/"
        },
        "id": "fjFonLO30qp-",
        "outputId": "c31cb82e-95a0-412c-9406-d72a47de8d22"
      },
      "execution_count": 6,
      "outputs": [
        {
          "output_type": "stream",
          "name": "stdout",
          "text": [
            "                                            Title   Price        Date\n",
            "0  Ovaltine Nutritious Malt Drink Milk 400g (Bot)  14,300  2023-04-13\n"
          ]
        }
      ]
    },
    {
      "cell_type": "code",
      "source": [
        "#Now we are appending data to the csv\n",
        "\n",
        "with open('SGHWebScraperDataset.csv', 'a+', newline='', encoding='UTF8') as f:\n",
        "    writer = csv.writer(f)\n",
        "    writer.writerow(data)"
      ],
      "metadata": {
        "id": "G3Gyv3pP1omz"
      },
      "execution_count": 7,
      "outputs": []
    },
    {
      "cell_type": "code",
      "source": [
        "#Combine all of the above code into one function\n",
        "def check_price():\n",
        "  URL = 'https://www.seingayhar.com/beverages-en/health-supplement-drinks-en/malt-en/ovaltine-nutritious-malt-drink-milk-400g-bot-en'\n",
        "headers = {\"User-Agent\": \"Mozilla/5.0 (Windows NT 10.0; Win64; x64) AppleWebKit/537.36 (KHTML, like Gecko) Chrome/78.0.3904.108 Safari/537.36\", \"Accept-Encoding\":\"gzip, deflate\", \"Accept\":\"text/html,application/xhtml+xml,application/xml;q=0.9,*/*;q=0.8\", \"DNT\":\"1\",\"Connection\":\"close\", \"Upgrade-Insecure-Requests\":\"1\"}\n",
        "\n",
        "page = requests.get(URL, headers=headers)\n",
        "\n",
        "soup = BeautifulSoup(page.content, \"html.parser\")\n",
        "\n",
        "title = soup.find('h1', itemprop=\"name\").text.strip()\n",
        "price = soup.find('span', itemprop=\"price\").text.strip()\n",
        "\n",
        "price = price.strip()[2:]\n",
        "title = title.strip()\n",
        "\n",
        "import datetime\n",
        "today = datetime.date.today()\n",
        "\n",
        "import csv \n",
        "header = ['Title', 'Price', 'Date']\n",
        "data = [title, price, today]\n",
        "with open('SGHWebScraperDataset.csv', 'a+', newline='', encoding='UTF8') as f:\n",
        "    writer = csv.writer(f)\n",
        "    writer.writerow(data)\n"
      ],
      "metadata": {
        "colab": {
          "base_uri": "https://localhost:8080/"
        },
        "id": "b5rhFW-O16Oh",
        "outputId": "fa6aab67-8acd-4b69-8ef2-44545b64cd7b"
      },
      "execution_count": 8,
      "outputs": [
        {
          "output_type": "stream",
          "name": "stderr",
          "text": [
            "WARNING:bs4.dammit:Some characters could not be decoded, and were replaced with REPLACEMENT CHARACTER.\n"
          ]
        }
      ]
    },
    {
      "cell_type": "code",
      "source": [
        "# Runs check_price after a set time and inputs data into your CSV\n",
        "\n",
        "while(True):\n",
        "    check_price()\n",
        "    time.sleep(86400)"
      ],
      "metadata": {
        "id": "Zpxuuklw3Itm"
      },
      "execution_count": null,
      "outputs": []
    },
    {
      "cell_type": "code",
      "source": [
        "import pandas as pd\n",
        "\n",
        "df = pd.read_csv(r'/content/SGHWebScraperDataset.csv')\n",
        "\n",
        "print(df)"
      ],
      "metadata": {
        "id": "sfZs9p0l3PtG"
      },
      "execution_count": null,
      "outputs": []
    },
    {
      "cell_type": "code",
      "source": [
        "# If uou want to try sending yourself an email (just for fun) when a price hits below a certain level you can try it\n",
        "# out with this script\n",
        "\n",
        "def send_mail():\n",
        "    server = smtplib.SMTP_SSL('smtp.gmail.com',465)\n",
        "    server.ehlo()\n",
        "    #server.starttls()\n",
        "    server.ehlo()\n",
        "    server.login('yehtet17@gmail.com','Koko&B@be12!')\n",
        "    \n",
        "    subject = \"The product you want is below KS 14300! Now is your chance to buy!\"\n",
        "    body = \"Ye, This is the moment we have been waiting for. Now is your chance to pick up the product of your dreams. Don't mess it up! Link here: https://www.seingayhar.com/beverages-en/health-supplement-drinks-en/malt-en/ovaltine-nutritious-malt-drink-milk-400g-bot-en\"\n",
        "   \n",
        "    msg = f\"Subject: {subject}\\n\\n{body}\"\n",
        "    \n",
        "    server.sendmail(\n",
        "        'yehtet17@gmail.com',\n",
        "        msg\n",
        "     \n",
        "    )"
      ],
      "metadata": {
        "id": "vgWZQ1PD3bz8"
      },
      "execution_count": null,
      "outputs": []
    },
    {
      "cell_type": "code",
      "source": [
        "import smtplib\n",
        "\n",
        "def send_mail():\n",
        "    server = smtplib.SMTP_SSL('smtp.gmail.com',465)\n",
        "    server.ehlo()\n",
        "    #server.starttls()\n",
        "    server.ehlo()\n",
        "    server.login('yehtet17@gmail.com','mqzzprrlbaqrekiz')\n",
        "    \n",
        "    subject = \"The product you want is below KS 14300! Now is your chance to buy!\"\n",
        "    body = \"Ye, This is the moment we have been waiting for. Now is your chance to pick up the product of your dreams. Don't mess it up! Link here: https://www.seingayhar.com/beverages-en/health-supplement-drinks-en/malt-en/ovaltine-nutritious-malt-drink-milk-400g-bot-en\"\n",
        "   \n",
        "    msg = f\"Subject: {subject}\\n\\n{body}\"\n",
        "    \n",
        "    server.sendmail(\n",
        "        'yehtet17@gmail.com',\n",
        "        'yelay1992.ymh@gmail.com', # Replace with your test email address\n",
        "        msg\n",
        "    )\n",
        "    \n",
        "    server.quit()\n",
        "    \n",
        "send_mail()\n"
      ],
      "metadata": {
        "id": "7OkjH4Qz4-PM"
      },
      "execution_count": null,
      "outputs": []
    }
  ]
}